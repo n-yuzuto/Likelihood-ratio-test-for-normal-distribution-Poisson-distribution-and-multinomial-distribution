{
 "cells": [
  {
   "cell_type": "code",
   "execution_count": 1,
   "metadata": {},
   "outputs": [],
   "source": [
    "def nLL(theta):\n",
    "    return N / 2 * np.log(2 * np.pi * theta[1]**2) \\\n",
    "+ np.sum(((X - theta[0]) / theta[1])**2) / 2 "
   ]
  },
  {
   "cell_type": "code",
   "execution_count": 2,
   "metadata": {},
   "outputs": [
    {
     "name": "stdout",
     "output_type": "stream",
     "text": [
      "0.77\n"
     ]
    }
   ],
   "source": [
    "import numpy as np\n",
    "from scipy.optimize import minimize, Bounds\n",
    "from scipy.stats import chi2\n",
    "N = 20\n",
    "count = 0\n",
    "alpha = 0.05\n",
    "for i in range(100):\n",
    "    X = 1.0 + 0.8 * np.random.randn(N)\n",
    "    theta0 = np.array([0.5,1.0])\n",
    "    bounds0 = Bounds([0.5-1e-6, 1e-6], [0.5+1e-6, np.inf])\n",
    "    res0 = minimize(nLL, theta0, bounds = bounds0)\n",
    "    ell0 = res0.fun\n",
    "    bounds1 = Bounds([-np.inf, 1e-6], [np.inf, np.inf])\n",
    "    res1 = minimize(nLL, theta0, bounds = bounds1)\n",
    "    ell1 = res1.fun\n",
    "    df = 1\n",
    "    lambda_lr = 2 * (ell0 - ell1)\n",
    "    p = 1 - chi2.cdf(lambda_lr, df)\n",
    "    if p < alpha :\n",
    "        count += 1\n",
    "print(count/100)"
   ]
  },
  {
   "cell_type": "code",
   "execution_count": 3,
   "metadata": {},
   "outputs": [
    {
     "name": "stdout",
     "output_type": "stream",
     "text": [
      "0.42\n"
     ]
    }
   ],
   "source": [
    "import numpy as np\n",
    "from scipy.optimize import minimize, Bounds\n",
    "from scipy.stats import chi2\n",
    "N = 10\n",
    "count = 0\n",
    "alpha = 0.05\n",
    "for i in range(100):\n",
    "    X = 1.0 + 0.8 * np.random.randn(N)\n",
    "    theta0 = np.array([0.5,1.0])\n",
    "    bounds0 = Bounds([0.5-1e-6, 1e-6], [0.5+1e-6, np.inf])\n",
    "    res0 = minimize(nLL, theta0, bounds = bounds0)\n",
    "    ell0 = res0.fun\n",
    "    bounds1 = Bounds([-np.inf, 1e-6], [np.inf, np.inf])\n",
    "    res1 = minimize(nLL, theta0, bounds = bounds1)\n",
    "    ell1 = res1.fun\n",
    "    df = 1\n",
    "    lambda_lr = 2 * (ell0 - ell1)\n",
    "    p = 1 - chi2.cdf(lambda_lr, df)\n",
    "    if p < alpha :\n",
    "        count += 1\n",
    "print(count/100)"
   ]
  },
  {
   "cell_type": "code",
   "execution_count": 4,
   "metadata": {},
   "outputs": [
    {
     "name": "stdout",
     "output_type": "stream",
     "text": [
      "1.0\n"
     ]
    }
   ],
   "source": [
    "import numpy as np\n",
    "from scipy.optimize import minimize, Bounds\n",
    "from scipy.stats import chi2\n",
    "N = 100\n",
    "count = 0\n",
    "alpha = 0.05\n",
    "for i in range(100):\n",
    "    X = 1.0 + 0.8 * np.random.randn(N)\n",
    "    theta0 = np.array([0.5,1.0])\n",
    "    bounds0 = Bounds([0.5-1e-6, 1e-6], [0.5+1e-6, np.inf])\n",
    "    res0 = minimize(nLL, theta0, bounds = bounds0)\n",
    "    ell0 = res0.fun\n",
    "    bounds1 = Bounds([-np.inf, 1e-6], [np.inf, np.inf])\n",
    "    res1 = minimize(nLL, theta0, bounds = bounds1)\n",
    "    ell1 = res1.fun\n",
    "    df = 1\n",
    "    lambda_lr = 2 * (ell0 - ell1)\n",
    "    p = 1 - chi2.cdf(lambda_lr, df)\n",
    "    if p < alpha :\n",
    "        count += 1\n",
    "print(count/100)"
   ]
  },
  {
   "cell_type": "code",
   "execution_count": 5,
   "metadata": {},
   "outputs": [
    {
     "name": "stdout",
     "output_type": "stream",
     "text": [
      "1.0\n"
     ]
    }
   ],
   "source": [
    "import numpy as np\n",
    "from scipy.optimize import minimize, Bounds\n",
    "from scipy.stats import chi2\n",
    "N = 1000\n",
    "count = 0\n",
    "alpha = 0.05\n",
    "for i in range(100):\n",
    "    X = 1.0 + 0.8 * np.random.randn(N)\n",
    "    theta0 = np.array([0.5,1.0])\n",
    "    bounds0 = Bounds([0.5-1e-6, 1e-6], [0.5+1e-6, np.inf])\n",
    "    res0 = minimize(nLL, theta0, bounds = bounds0)\n",
    "    ell0 = res0.fun\n",
    "    bounds1 = Bounds([-np.inf, 1e-6], [np.inf, np.inf])\n",
    "    res1 = minimize(nLL, theta0, bounds = bounds1)\n",
    "    ell1 = res1.fun\n",
    "    df = 1\n",
    "    lambda_lr = 2 * (ell0 - ell1)\n",
    "    p = 1 - chi2.cdf(lambda_lr, df)\n",
    "    if p < alpha :\n",
    "        count += 1\n",
    "print(count/100)"
   ]
  },
  {
   "cell_type": "code",
   "execution_count": 6,
   "metadata": {},
   "outputs": [],
   "source": [
    "def nLL(theta):\n",
    "    lambda_ = 1.\n",
    "    for i in range(len(X)):\n",
    "        lambda_ *= math.factorial(X[i])\n",
    "    return N * theta + np.log(lambda_) -np.log(theta) * np.sum(X)  "
   ]
  },
  {
   "cell_type": "code",
   "execution_count": 7,
   "metadata": {},
   "outputs": [
    {
     "name": "stdout",
     "output_type": "stream",
     "text": [
      "[3.18101236]\n"
     ]
    }
   ],
   "source": [
    "import math\n",
    "import numpy as np\n",
    "from scipy.optimize import minimize, Bounds\n",
    "\n",
    "np.random.seed(100)\n",
    "N = 30\n",
    "X = np.random.poisson(3.5, N)\n",
    "theta0 = np.array([4.0])\n",
    "bounds0 = Bounds(4.0-1e-6, 4.0+1e-6)\n",
    "res0 = minimize(nLL, theta0, bounds = bounds0)\n",
    "ell0 = res0.fun\n",
    "bounds1 = Bounds(1e-6,np.inf)\n",
    "res1 = minimize(nLL, theta0, bounds = bounds1)\n",
    "ell1 = res1.fun\n",
    "lambda_lr = 2 * (ell0 - ell1)\n",
    "print(lambda_lr)\n"
   ]
  },
  {
   "cell_type": "code",
   "execution_count": 8,
   "metadata": {},
   "outputs": [
    {
     "name": "stdout",
     "output_type": "stream",
     "text": [
      "[0.20382241]\n"
     ]
    }
   ],
   "source": [
    "from scipy.stats import chi2\n",
    "df = 2\n",
    "p = 1 - chi2.cdf(lambda_lr, df)\n",
    "print(p)"
   ]
  },
  {
   "cell_type": "code",
   "execution_count": null,
   "metadata": {},
   "outputs": [],
   "source": []
  }
 ],
 "metadata": {
  "kernelspec": {
   "display_name": "Python 3",
   "language": "python",
   "name": "python3"
  },
  "language_info": {
   "codemirror_mode": {
    "name": "ipython",
    "version": 3
   },
   "file_extension": ".py",
   "mimetype": "text/x-python",
   "name": "python",
   "nbconvert_exporter": "python",
   "pygments_lexer": "ipython3",
   "version": "3.7.3"
  }
 },
 "nbformat": 4,
 "nbformat_minor": 2
}
